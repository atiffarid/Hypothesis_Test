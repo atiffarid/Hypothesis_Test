{
 "cells": [
  {
   "cell_type": "code",
   "execution_count": 1,
   "metadata": {
    "collapsed": true
   },
   "outputs": [],
   "source": [
    "import numpy as np\n",
    "import scipy.stats as stats\n",
    "import math\n"
   ]
  },
  {
   "cell_type": "code",
   "execution_count": 3,
   "metadata": {},
   "outputs": [
    {
     "name": "stdout",
     "output_type": "stream",
     "text": [
      "This program will test the null hypothesis that grades in ITCS 6163 are similar to overall grades at UNC Charlotte.\n",
      "Enter the alpha value (Ex: For 95% confidence, enter 0.05): 0.05\n"
     ]
    }
   ],
   "source": [
    "print (\"This program will test the null hypothesis that grades in ITCS 6163 are similar to overall grades at UNC Charlotte.\")\n",
    "p_value_cutoff = float(input(\"Enter the alpha value (Ex: For 95% confidence, enter 0.05): \"))\n"
   ]
  },
  {
   "cell_type": "code",
   "execution_count": 4,
   "metadata": {
    "collapsed": true
   },
   "outputs": [],
   "source": [
    "# Seed the random generator so we get the same results every run\n",
    "np.random.seed(6163)\n"
   ]
  },
  {
   "cell_type": "code",
   "execution_count": 5,
   "metadata": {
    "collapsed": true
   },
   "outputs": [],
   "source": [
    "population_grades1 = stats.poisson.rvs(loc=18, mu=35, size=150000)\n",
    "population_grades2 = stats.poisson.rvs(loc=18, mu=10, size=150000)\n",
    "population_grades = np.concatenate((population_grades1, population_grades2))\n",
    "\n",
    "sample_grades1 = stats.poisson.rvs(loc=18, mu=30, size=30)\n",
    "sample_grades2 = stats.poisson.rvs(loc=18, mu=10, size=30)\n",
    "sample_grades = np.concatenate((sample_grades1, sample_grades2))\n"
   ]
  },
  {
   "cell_type": "code",
   "execution_count": 7,
   "metadata": {},
   "outputs": [
    {
     "name": "stdout",
     "output_type": "stream",
     "text": [
      "Population mean: 40.51041\n"
     ]
    }
   ],
   "source": [
    "print (\"Population mean: \" + str(population_grades.mean()))\n"
   ]
  },
  {
   "cell_type": "code",
   "execution_count": 8,
   "metadata": {},
   "outputs": [
    {
     "name": "stdout",
     "output_type": "stream",
     "text": [
      "Sample mean: 37.95\n"
     ]
    }
   ],
   "source": [
    "print (\"Sample mean: \" + str(sample_grades.mean()))"
   ]
  },
  {
   "cell_type": "code",
   "execution_count": 10,
   "metadata": {},
   "outputs": [
    {
     "name": "stdout",
     "output_type": "stream",
     "text": [
      "Ttest_1sampResult(statistic=-1.9258979638495455, pvalue=0.058940005362808953)\n"
     ]
    }
   ],
   "source": [
    "results = stats.ttest_1samp(a= sample_grades,               # Sample data\n",
    "\t\t\t\t\t\t\tpopmean= population_grades.mean())  # Pop mean\n",
    "\t\t\t\t \n",
    "print (results)\n"
   ]
  },
  {
   "cell_type": "code",
   "execution_count": 11,
   "metadata": {},
   "outputs": [
    {
     "name": "stdout",
     "output_type": "stream",
     "text": [
      "p-value acceptable, we fail to reject the null hypothesis.\n"
     ]
    }
   ],
   "source": [
    "if float(results.pvalue) < p_value_cutoff:\n",
    "\tprint (\"p-value was too low, we reject the null hypothesis.\")\n",
    "else:\n",
    "\tprint (\"p-value acceptable, we fail to reject the null hypothesis.\")"
   ]
  },
  {
   "cell_type": "code",
   "execution_count": null,
   "metadata": {
    "collapsed": true
   },
   "outputs": [],
   "source": []
  }
 ],
 "metadata": {
  "kernelspec": {
   "display_name": "Python 3",
   "language": "python",
   "name": "python3"
  },
  "language_info": {
   "codemirror_mode": {
    "name": "ipython",
    "version": 3
   },
   "file_extension": ".py",
   "mimetype": "text/x-python",
   "name": "python",
   "nbconvert_exporter": "python",
   "pygments_lexer": "ipython3",
   "version": "3.6.3"
  }
 },
 "nbformat": 4,
 "nbformat_minor": 2
}
